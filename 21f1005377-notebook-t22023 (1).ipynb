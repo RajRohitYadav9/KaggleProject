{
 "cells": [
  {
   "cell_type": "code",
   "execution_count": 1,
   "id": "6cfcec6a",
   "metadata": {
    "_cell_guid": "b1076dfc-b9ad-4769-8c92-a6c4dae69d19",
    "_uuid": "8f2839f25d086af736a60e9eeb907d3b93b6e0e5",
    "execution": {
     "iopub.execute_input": "2023-10-01T05:29:36.228789Z",
     "iopub.status.busy": "2023-10-01T05:29:36.227915Z",
     "iopub.status.idle": "2023-10-01T05:29:36.240660Z",
     "shell.execute_reply": "2023-10-01T05:29:36.239925Z"
    },
    "papermill": {
     "duration": 0.026415,
     "end_time": "2023-10-01T05:29:36.242632",
     "exception": false,
     "start_time": "2023-10-01T05:29:36.216217",
     "status": "completed"
    },
    "tags": []
   },
   "outputs": [
    {
     "name": "stdout",
     "output_type": "stream",
     "text": [
      "/kaggle/input/sentiment-prediction-on-movie-reviews/movies.csv\n",
      "/kaggle/input/sentiment-prediction-on-movie-reviews/sample.csv\n",
      "/kaggle/input/sentiment-prediction-on-movie-reviews/train.csv\n",
      "/kaggle/input/sentiment-prediction-on-movie-reviews/test.csv\n"
     ]
    }
   ],
   "source": [
    "# This Python 3 environment comes with many helpful analytics libraries installed\n",
    "# It is defined by the kaggle/python Docker image: https://github.com/kaggle/docker-python\n",
    "# For example, here's several helpful packages to load\n",
    "\n",
    "import numpy as np # linear algebra\n",
    "import pandas as pd # data processing, CSV file I/O (e.g. pd.read_csv)\n",
    "\n",
    "# Input data files are available in the read-only \"../input/\" directory\n",
    "# For example, running this (by clicking run or pressing Shift+Enter) will list all files under the input directory\n",
    "\n",
    "import os\n",
    "for dirname, _, filenames in os.walk('/kaggle/input'):\n",
    "    for filename in filenames:\n",
    "        print(os.path.join(dirname, filename))\n",
    "\n",
    "# You can write up to 20GB to the current directory (/kaggle/working/) that gets preserved as output when you create a version using \"Save & Run All\" \n",
    "# You can also write temporary files to /kaggle/temp/, but they won't be saved outside of the current session"
   ]
  },
  {
   "cell_type": "markdown",
   "id": "97a99cda",
   "metadata": {
    "papermill": {
     "duration": 0.00847,
     "end_time": "2023-10-01T05:29:36.259744",
     "exception": false,
     "start_time": "2023-10-01T05:29:36.251274",
     "status": "completed"
    },
    "tags": []
   },
   "source": [
    "# Data loading"
   ]
  },
  {
   "cell_type": "code",
   "execution_count": 2,
   "id": "c0b85261",
   "metadata": {
    "execution": {
     "iopub.execute_input": "2023-10-01T05:29:36.278366Z",
     "iopub.status.busy": "2023-10-01T05:29:36.277935Z",
     "iopub.status.idle": "2023-10-01T05:29:38.577816Z",
     "shell.execute_reply": "2023-10-01T05:29:38.576621Z"
    },
    "papermill": {
     "duration": 2.312112,
     "end_time": "2023-10-01T05:29:38.580300",
     "exception": false,
     "start_time": "2023-10-01T05:29:36.268188",
     "status": "completed"
    },
    "tags": []
   },
   "outputs": [],
   "source": [
    "train_data=pd.read_csv(\"/kaggle/input/sentiment-prediction-on-movie-reviews/train.csv\")\n",
    "mvdata=pd.read_csv(\"/kaggle/input/sentiment-prediction-on-movie-reviews/movies.csv\")\n",
    "test_data=pd.read_csv(\"/kaggle/input/sentiment-prediction-on-movie-reviews/test.csv\")\n"
   ]
  },
  {
   "cell_type": "markdown",
   "id": "02518026",
   "metadata": {
    "papermill": {
     "duration": 0.008029,
     "end_time": "2023-10-01T05:29:38.597237",
     "exception": false,
     "start_time": "2023-10-01T05:29:38.589208",
     "status": "completed"
    },
    "tags": []
   },
   "source": [
    "# EDA"
   ]
  },
  {
   "cell_type": "code",
   "execution_count": 3,
   "id": "76d1c659",
   "metadata": {
    "execution": {
     "iopub.execute_input": "2023-10-01T05:29:38.615891Z",
     "iopub.status.busy": "2023-10-01T05:29:38.615029Z",
     "iopub.status.idle": "2023-10-01T05:29:38.644473Z",
     "shell.execute_reply": "2023-10-01T05:29:38.643454Z"
    },
    "papermill": {
     "duration": 0.041181,
     "end_time": "2023-10-01T05:29:38.646693",
     "exception": false,
     "start_time": "2023-10-01T05:29:38.605512",
     "status": "completed"
    },
    "tags": []
   },
   "outputs": [
    {
     "data": {
      "text/html": [
       "<div>\n",
       "<style scoped>\n",
       "    .dataframe tbody tr th:only-of-type {\n",
       "        vertical-align: middle;\n",
       "    }\n",
       "\n",
       "    .dataframe tbody tr th {\n",
       "        vertical-align: top;\n",
       "    }\n",
       "\n",
       "    .dataframe thead th {\n",
       "        text-align: right;\n",
       "    }\n",
       "</style>\n",
       "<table border=\"1\" class=\"dataframe\">\n",
       "  <thead>\n",
       "    <tr style=\"text-align: right;\">\n",
       "      <th></th>\n",
       "      <th>movieid</th>\n",
       "      <th>reviewerName</th>\n",
       "      <th>isFrequentReviewer</th>\n",
       "      <th>reviewText</th>\n",
       "      <th>sentiment</th>\n",
       "    </tr>\n",
       "  </thead>\n",
       "  <tbody>\n",
       "    <tr>\n",
       "      <th>0</th>\n",
       "      <td>marvelous_pirate</td>\n",
       "      <td>Benjamin Henry</td>\n",
       "      <td>False</td>\n",
       "      <td>Henry Selick’s first movie since 2009’s Corali...</td>\n",
       "      <td>POSITIVE</td>\n",
       "    </tr>\n",
       "    <tr>\n",
       "      <th>1</th>\n",
       "      <td>tony_montana_frodo_baggins_v_rocky_balboa</td>\n",
       "      <td>Felicia Lopez</td>\n",
       "      <td>False</td>\n",
       "      <td>With a cast that reads like the Vogue Oscar pa...</td>\n",
       "      <td>NEGATIVE</td>\n",
       "    </tr>\n",
       "    <tr>\n",
       "      <th>2</th>\n",
       "      <td>darth_vader_katniss_everdeen_sorcerer_donnie_d...</td>\n",
       "      <td>Mr. Charles Burgess</td>\n",
       "      <td>True</td>\n",
       "      <td>Creed II does not give us anything but another...</td>\n",
       "      <td>POSITIVE</td>\n",
       "    </tr>\n",
       "    <tr>\n",
       "      <th>3</th>\n",
       "      <td>lara_croft_glimmer</td>\n",
       "      <td>Ryan Barrett</td>\n",
       "      <td>False</td>\n",
       "      <td>I know what you're thinking, but this is no Li...</td>\n",
       "      <td>POSITIVE</td>\n",
       "    </tr>\n",
       "    <tr>\n",
       "      <th>4</th>\n",
       "      <td>jason_bourne_surreal_the_terminator_indiana_jones</td>\n",
       "      <td>Alexander Glover</td>\n",
       "      <td>False</td>\n",
       "      <td>Director Fernando Meirelles tells the story wi...</td>\n",
       "      <td>POSITIVE</td>\n",
       "    </tr>\n",
       "  </tbody>\n",
       "</table>\n",
       "</div>"
      ],
      "text/plain": [
       "                                             movieid         reviewerName  \\\n",
       "0                                   marvelous_pirate       Benjamin Henry   \n",
       "1          tony_montana_frodo_baggins_v_rocky_balboa        Felicia Lopez   \n",
       "2  darth_vader_katniss_everdeen_sorcerer_donnie_d...  Mr. Charles Burgess   \n",
       "3                                 lara_croft_glimmer         Ryan Barrett   \n",
       "4  jason_bourne_surreal_the_terminator_indiana_jones     Alexander Glover   \n",
       "\n",
       "   isFrequentReviewer                                         reviewText  \\\n",
       "0               False  Henry Selick’s first movie since 2009’s Corali...   \n",
       "1               False  With a cast that reads like the Vogue Oscar pa...   \n",
       "2                True  Creed II does not give us anything but another...   \n",
       "3               False  I know what you're thinking, but this is no Li...   \n",
       "4               False  Director Fernando Meirelles tells the story wi...   \n",
       "\n",
       "  sentiment  \n",
       "0  POSITIVE  \n",
       "1  NEGATIVE  \n",
       "2  POSITIVE  \n",
       "3  POSITIVE  \n",
       "4  POSITIVE  "
      ]
     },
     "execution_count": 3,
     "metadata": {},
     "output_type": "execute_result"
    }
   ],
   "source": [
    "train_data.head()"
   ]
  },
  {
   "cell_type": "code",
   "execution_count": 4,
   "id": "440b4dce",
   "metadata": {
    "execution": {
     "iopub.execute_input": "2023-10-01T05:29:38.666310Z",
     "iopub.status.busy": "2023-10-01T05:29:38.665580Z",
     "iopub.status.idle": "2023-10-01T05:29:38.910719Z",
     "shell.execute_reply": "2023-10-01T05:29:38.909671Z"
    },
    "papermill": {
     "duration": 0.257659,
     "end_time": "2023-10-01T05:29:38.913188",
     "exception": false,
     "start_time": "2023-10-01T05:29:38.655529",
     "status": "completed"
    },
    "tags": []
   },
   "outputs": [
    {
     "data": {
      "text/html": [
       "<div>\n",
       "<style scoped>\n",
       "    .dataframe tbody tr th:only-of-type {\n",
       "        vertical-align: middle;\n",
       "    }\n",
       "\n",
       "    .dataframe tbody tr th {\n",
       "        vertical-align: top;\n",
       "    }\n",
       "\n",
       "    .dataframe thead th {\n",
       "        text-align: right;\n",
       "    }\n",
       "</style>\n",
       "<table border=\"1\" class=\"dataframe\">\n",
       "  <thead>\n",
       "    <tr style=\"text-align: right;\">\n",
       "      <th></th>\n",
       "      <th>movieid</th>\n",
       "      <th>reviewerName</th>\n",
       "      <th>isFrequentReviewer</th>\n",
       "      <th>reviewText</th>\n",
       "      <th>sentiment</th>\n",
       "    </tr>\n",
       "  </thead>\n",
       "  <tbody>\n",
       "    <tr>\n",
       "      <th>count</th>\n",
       "      <td>162758</td>\n",
       "      <td>162758</td>\n",
       "      <td>162758</td>\n",
       "      <td>156311</td>\n",
       "      <td>162758</td>\n",
       "    </tr>\n",
       "    <tr>\n",
       "      <th>unique</th>\n",
       "      <td>16812</td>\n",
       "      <td>4482</td>\n",
       "      <td>2</td>\n",
       "      <td>155071</td>\n",
       "      <td>2</td>\n",
       "    </tr>\n",
       "    <tr>\n",
       "      <th>top</th>\n",
       "      <td>escape_the_terminator_tyler_durden_astonish</td>\n",
       "      <td>Sherri Morrison</td>\n",
       "      <td>False</td>\n",
       "      <td>Parental Content Review</td>\n",
       "      <td>POSITIVE</td>\n",
       "    </tr>\n",
       "    <tr>\n",
       "      <th>freq</th>\n",
       "      <td>708</td>\n",
       "      <td>962</td>\n",
       "      <td>113189</td>\n",
       "      <td>29</td>\n",
       "      <td>108761</td>\n",
       "    </tr>\n",
       "  </tbody>\n",
       "</table>\n",
       "</div>"
      ],
      "text/plain": [
       "                                            movieid     reviewerName  \\\n",
       "count                                        162758           162758   \n",
       "unique                                        16812             4482   \n",
       "top     escape_the_terminator_tyler_durden_astonish  Sherri Morrison   \n",
       "freq                                            708              962   \n",
       "\n",
       "       isFrequentReviewer               reviewText sentiment  \n",
       "count              162758                   156311    162758  \n",
       "unique                  2                   155071         2  \n",
       "top                 False  Parental Content Review  POSITIVE  \n",
       "freq               113189                       29    108761  "
      ]
     },
     "execution_count": 4,
     "metadata": {},
     "output_type": "execute_result"
    }
   ],
   "source": [
    "train_data.describe()"
   ]
  },
  {
   "cell_type": "code",
   "execution_count": 5,
   "id": "84418c5f",
   "metadata": {
    "execution": {
     "iopub.execute_input": "2023-10-01T05:29:38.932711Z",
     "iopub.status.busy": "2023-10-01T05:29:38.932374Z",
     "iopub.status.idle": "2023-10-01T05:29:39.048601Z",
     "shell.execute_reply": "2023-10-01T05:29:39.047342Z"
    },
    "papermill": {
     "duration": 0.128816,
     "end_time": "2023-10-01T05:29:39.050964",
     "exception": false,
     "start_time": "2023-10-01T05:29:38.922148",
     "status": "completed"
    },
    "tags": []
   },
   "outputs": [
    {
     "name": "stdout",
     "output_type": "stream",
     "text": [
      "<class 'pandas.core.frame.DataFrame'>\n",
      "RangeIndex: 162758 entries, 0 to 162757\n",
      "Data columns (total 5 columns):\n",
      " #   Column              Non-Null Count   Dtype \n",
      "---  ------              --------------   ----- \n",
      " 0   movieid             162758 non-null  object\n",
      " 1   reviewerName        162758 non-null  object\n",
      " 2   isFrequentReviewer  162758 non-null  bool  \n",
      " 3   reviewText          156311 non-null  object\n",
      " 4   sentiment           162758 non-null  object\n",
      "dtypes: bool(1), object(4)\n",
      "memory usage: 5.1+ MB\n"
     ]
    }
   ],
   "source": [
    "train_data.info()"
   ]
  },
  {
   "cell_type": "code",
   "execution_count": 6,
   "id": "1ff94b07",
   "metadata": {
    "execution": {
     "iopub.execute_input": "2023-10-01T05:29:39.070957Z",
     "iopub.status.busy": "2023-10-01T05:29:39.070578Z",
     "iopub.status.idle": "2023-10-01T05:29:39.088183Z",
     "shell.execute_reply": "2023-10-01T05:29:39.087177Z"
    },
    "papermill": {
     "duration": 0.031293,
     "end_time": "2023-10-01T05:29:39.091340",
     "exception": false,
     "start_time": "2023-10-01T05:29:39.060047",
     "status": "completed"
    },
    "tags": []
   },
   "outputs": [
    {
     "data": {
      "text/plain": [
       "POSITIVE    108761\n",
       "NEGATIVE     53997\n",
       "Name: sentiment, dtype: int64"
      ]
     },
     "execution_count": 6,
     "metadata": {},
     "output_type": "execute_result"
    }
   ],
   "source": [
    "train_data['sentiment'].value_counts()"
   ]
  },
  {
   "cell_type": "code",
   "execution_count": 7,
   "id": "cb00d58a",
   "metadata": {
    "execution": {
     "iopub.execute_input": "2023-10-01T05:29:39.112260Z",
     "iopub.status.busy": "2023-10-01T05:29:39.111559Z",
     "iopub.status.idle": "2023-10-01T05:29:40.882092Z",
     "shell.execute_reply": "2023-10-01T05:29:40.881024Z"
    },
    "papermill": {
     "duration": 1.783314,
     "end_time": "2023-10-01T05:29:40.884097",
     "exception": false,
     "start_time": "2023-10-01T05:29:39.100783",
     "status": "completed"
    },
    "tags": []
   },
   "outputs": [
    {
     "data": {
      "text/plain": [
       "(array([108761.,      0.,      0.,      0.,      0.,      0.,      0.,\n",
       "             0.,      0.,  53997.]),\n",
       " array([0. , 0.1, 0.2, 0.3, 0.4, 0.5, 0.6, 0.7, 0.8, 0.9, 1. ]),\n",
       " <BarContainer object of 10 artists>)"
      ]
     },
     "execution_count": 7,
     "metadata": {},
     "output_type": "execute_result"
    },
    {
     "data": {
      "image/png": "[encoded data removed]",
      "text/plain": [
       "<Figure size 640x480 with 1 Axes>"
      ]
     },
     "metadata": {},
     "output_type": "display_data"
    }
   ],
   "source": [
    "import seaborn as sbn\n",
    "import matplotlib.pyplot as plt\n",
    "sbn.set()\n",
    "plt.hist(train_data['sentiment'])"
   ]
  },
  {
   "cell_type": "code",
   "execution_count": 8,
   "id": "c5edfe7a",
   "metadata": {
    "execution": {
     "iopub.execute_input": "2023-10-01T05:29:40.905053Z",
     "iopub.status.busy": "2023-10-01T05:29:40.904624Z",
     "iopub.status.idle": "2023-10-01T05:29:41.069151Z",
     "shell.execute_reply": "2023-10-01T05:29:41.067361Z"
    },
    "papermill": {
     "duration": 0.181537,
     "end_time": "2023-10-01T05:29:41.075201",
     "exception": false,
     "start_time": "2023-10-01T05:29:40.893664",
     "status": "completed"
    },
    "tags": []
   },
   "outputs": [
    {
     "data": {
      "image/png": "[encoded data removed]",
      "text/plain": [
       "<Figure size 640x480 with 1 Axes>"
      ]
     },
     "metadata": {},
     "output_type": "display_data"
    }
   ],
   "source": [
    "sbn.set()\n",
    "counts=train_data['isFrequentReviewer'].value_counts()\n",
    "plt.pie(counts,autopct='%.1f%%')\n",
    "plt.legend(labels=['False','True'],loc='best')\n",
    "plt.show()"
   ]
  },
  {
   "cell_type": "code",
   "execution_count": 9,
   "id": "35d95f51",
   "metadata": {
    "execution": {
     "iopub.execute_input": "2023-10-01T05:29:41.126558Z",
     "iopub.status.busy": "2023-10-01T05:29:41.126200Z",
     "iopub.status.idle": "2023-10-01T05:29:41.366114Z",
     "shell.execute_reply": "2023-10-01T05:29:41.364771Z"
    },
    "papermill": {
     "duration": 0.263303,
     "end_time": "2023-10-01T05:29:41.368457",
     "exception": false,
     "start_time": "2023-10-01T05:29:41.105154",
     "status": "completed"
    },
    "tags": []
   },
   "outputs": [
    {
     "name": "stdout",
     "output_type": "stream",
     "text": [
      "<class 'pandas.core.frame.DataFrame'>\n",
      "RangeIndex: 143258 entries, 0 to 143257\n",
      "Data columns (total 14 columns):\n",
      " #   Column                Non-Null Count   Dtype  \n",
      "---  ------                --------------   -----  \n",
      " 0   movieid               143258 non-null  object \n",
      " 1   title                 143258 non-null  object \n",
      " 2   audienceScore         73248 non-null   float64\n",
      " 3   rating                13991 non-null   object \n",
      " 4   ratingContents        13991 non-null   object \n",
      " 5   releaseDateTheaters   30773 non-null   object \n",
      " 6   releaseDateStreaming  79420 non-null   object \n",
      " 7   runtimeMinutes        129431 non-null  float64\n",
      " 8   genre                 132175 non-null  object \n",
      " 9   originalLanguage      129400 non-null  object \n",
      " 10  director              143258 non-null  object \n",
      " 11  boxOffice             14743 non-null   object \n",
      " 12  distributor           23005 non-null   object \n",
      " 13  soundType             15917 non-null   object \n",
      "dtypes: float64(2), object(12)\n",
      "memory usage: 15.3+ MB\n"
     ]
    }
   ],
   "source": [
    "mvdata.info()"
   ]
  },
  {
   "cell_type": "code",
   "execution_count": 10,
   "id": "097952dd",
   "metadata": {
    "execution": {
     "iopub.execute_input": "2023-10-01T05:29:41.390729Z",
     "iopub.status.busy": "2023-10-01T05:29:41.390357Z",
     "iopub.status.idle": "2023-10-01T05:29:41.653280Z",
     "shell.execute_reply": "2023-10-01T05:29:41.652256Z"
    },
    "papermill": {
     "duration": 0.277045,
     "end_time": "2023-10-01T05:29:41.655671",
     "exception": false,
     "start_time": "2023-10-01T05:29:41.378626",
     "status": "completed"
    },
    "tags": []
   },
   "outputs": [
    {
     "name": "stdout",
     "output_type": "stream",
     "text": [
      "<class 'pandas.core.frame.DataFrame'>\n",
      "RangeIndex: 55315 entries, 0 to 55314\n",
      "Data columns (total 4 columns):\n",
      " #   Column        Non-Null Count  Dtype \n",
      "---  ------        --------------  ----- \n",
      " 0   movieid       55315 non-null  object\n",
      " 1   reviewerName  55315 non-null  object\n",
      " 2   isTopCritic   55315 non-null  bool  \n",
      " 3   reviewText    52805 non-null  object\n",
      "dtypes: bool(1), object(3)\n",
      "memory usage: 1.3+ MB\n"
     ]
    }
   ],
   "source": [
    "test_data=pd.read_csv(\"/kaggle/input/sentiment-prediction-on-movie-reviews/test.csv\")\n",
    "test_data.info()"
   ]
  },
  {
   "cell_type": "markdown",
   "id": "b6ea23ca",
   "metadata": {
    "papermill": {
     "duration": 0.009932,
     "end_time": "2023-10-01T05:29:41.676071",
     "exception": false,
     "start_time": "2023-10-01T05:29:41.666139",
     "status": "completed"
    },
    "tags": []
   },
   "source": [
    "# Data preprocess"
   ]
  },
  {
   "cell_type": "code",
   "execution_count": 11,
   "id": "820c34b3",
   "metadata": {
    "execution": {
     "iopub.execute_input": "2023-10-01T05:29:41.698371Z",
     "iopub.status.busy": "2023-10-01T05:29:41.697862Z",
     "iopub.status.idle": "2023-10-01T05:29:41.825945Z",
     "shell.execute_reply": "2023-10-01T05:29:41.825149Z"
    },
    "papermill": {
     "duration": 0.142648,
     "end_time": "2023-10-01T05:29:41.828857",
     "exception": false,
     "start_time": "2023-10-01T05:29:41.686209",
     "status": "completed"
    },
    "tags": []
   },
   "outputs": [],
   "source": [
    "tr_data=train_data.dropna()\n",
    "X=tr_data.drop(['sentiment'],axis=1)\n",
    "y=tr_data['sentiment']"
   ]
  },
  {
   "cell_type": "code",
   "execution_count": 12,
   "id": "6c31d698",
   "metadata": {
    "execution": {
     "iopub.execute_input": "2023-10-01T05:29:41.851891Z",
     "iopub.status.busy": "2023-10-01T05:29:41.851012Z",
     "iopub.status.idle": "2023-10-01T05:29:41.862564Z",
     "shell.execute_reply": "2023-10-01T05:29:41.861717Z"
    },
    "papermill": {
     "duration": 0.025311,
     "end_time": "2023-10-01T05:29:41.864531",
     "exception": false,
     "start_time": "2023-10-01T05:29:41.839220",
     "status": "completed"
    },
    "tags": []
   },
   "outputs": [
    {
     "data": {
      "text/html": [
       "<div>\n",
       "<style scoped>\n",
       "    .dataframe tbody tr th:only-of-type {\n",
       "        vertical-align: middle;\n",
       "    }\n",
       "\n",
       "    .dataframe tbody tr th {\n",
       "        vertical-align: top;\n",
       "    }\n",
       "\n",
       "    .dataframe thead th {\n",
       "        text-align: right;\n",
       "    }\n",
       "</style>\n",
       "<table border=\"1\" class=\"dataframe\">\n",
       "  <thead>\n",
       "    <tr style=\"text-align: right;\">\n",
       "      <th></th>\n",
       "      <th>movieid</th>\n",
       "      <th>reviewerName</th>\n",
       "      <th>isFrequentReviewer</th>\n",
       "      <th>reviewText</th>\n",
       "    </tr>\n",
       "  </thead>\n",
       "  <tbody>\n",
       "    <tr>\n",
       "      <th>0</th>\n",
       "      <td>marvelous_pirate</td>\n",
       "      <td>Benjamin Henry</td>\n",
       "      <td>False</td>\n",
       "      <td>Henry Selick’s first movie since 2009’s Corali...</td>\n",
       "    </tr>\n",
       "    <tr>\n",
       "      <th>1</th>\n",
       "      <td>tony_montana_frodo_baggins_v_rocky_balboa</td>\n",
       "      <td>Felicia Lopez</td>\n",
       "      <td>False</td>\n",
       "      <td>With a cast that reads like the Vogue Oscar pa...</td>\n",
       "    </tr>\n",
       "  </tbody>\n",
       "</table>\n",
       "</div>"
      ],
      "text/plain": [
       "                                     movieid    reviewerName  \\\n",
       "0                           marvelous_pirate  Benjamin Henry   \n",
       "1  tony_montana_frodo_baggins_v_rocky_balboa   Felicia Lopez   \n",
       "\n",
       "   isFrequentReviewer                                         reviewText  \n",
       "0               False  Henry Selick’s first movie since 2009’s Corali...  \n",
       "1               False  With a cast that reads like the Vogue Oscar pa...  "
      ]
     },
     "execution_count": 12,
     "metadata": {},
     "output_type": "execute_result"
    }
   ],
   "source": [
    "X[:2]"
   ]
  },
  {
   "cell_type": "code",
   "execution_count": 13,
   "id": "0aa30d05",
   "metadata": {
    "execution": {
     "iopub.execute_input": "2023-10-01T05:29:41.887136Z",
     "iopub.status.busy": "2023-10-01T05:29:41.886516Z",
     "iopub.status.idle": "2023-10-01T05:29:42.354479Z",
     "shell.execute_reply": "2023-10-01T05:29:42.353412Z"
    },
    "papermill": {
     "duration": 0.481616,
     "end_time": "2023-10-01T05:29:42.356799",
     "exception": false,
     "start_time": "2023-10-01T05:29:41.875183",
     "status": "completed"
    },
    "tags": []
   },
   "outputs": [],
   "source": [
    "from sklearn.model_selection import train_test_split\n",
    "\n",
    "X_train,X_test,y_train,y_test=train_test_split(X,y,stratify=y, test_size=.001,random_state=1)"
   ]
  },
  {
   "cell_type": "code",
   "execution_count": 14,
   "id": "bd2f7711",
   "metadata": {
    "execution": {
     "iopub.execute_input": "2023-10-01T05:29:42.379076Z",
     "iopub.status.busy": "2023-10-01T05:29:42.377915Z",
     "iopub.status.idle": "2023-10-01T05:29:42.384377Z",
     "shell.execute_reply": "2023-10-01T05:29:42.383438Z"
    },
    "papermill": {
     "duration": 0.019592,
     "end_time": "2023-10-01T05:29:42.386383",
     "exception": false,
     "start_time": "2023-10-01T05:29:42.366791",
     "status": "completed"
    },
    "tags": []
   },
   "outputs": [
    {
     "data": {
      "text/plain": [
       "((156154, 4), (157, 4), (156154,), (157,))"
      ]
     },
     "execution_count": 14,
     "metadata": {},
     "output_type": "execute_result"
    }
   ],
   "source": [
    "X_train.shape,X_test.shape,y_train.shape,y_test.shape"
   ]
  },
  {
   "cell_type": "code",
   "execution_count": 15,
   "id": "996c8b22",
   "metadata": {
    "execution": {
     "iopub.execute_input": "2023-10-01T05:29:42.409452Z",
     "iopub.status.busy": "2023-10-01T05:29:42.408713Z",
     "iopub.status.idle": "2023-10-01T05:29:45.056498Z",
     "shell.execute_reply": "2023-10-01T05:29:45.055296Z"
    },
    "papermill": {
     "duration": 2.66252,
     "end_time": "2023-10-01T05:29:45.059381",
     "exception": false,
     "start_time": "2023-10-01T05:29:42.396861",
     "status": "completed"
    },
    "tags": []
   },
   "outputs": [],
   "source": [
    "import re\n",
    "\n",
    "def normalize(text):\n",
    "    text=text.lower()\n",
    "    text=re.sub(r'[^\\w\\s]', '', text)\n",
    "    text=re.sub(r'\\d', '', text)\n",
    "    text=re.sub(r'\\s+', ' ', text)\n",
    "    text=text.strip()\n",
    "    return text \n",
    "\n",
    "# def stem(text, min_length=5):\n",
    "#     suffixes = ['ing', 'ly', 'ed', 'ious', 'ies', 'es', 's', 'ment']\n",
    "#     pattern = r'(' + '|'.join(suffixes) + r')$'\n",
    "#     words = text.split()\n",
    "#     stemmed_words = []\n",
    "#     for word in words:\n",
    "#         if len(word) >= min_length:\n",
    "#             word = re.sub(pattern, ' ', word)\n",
    "#         stemmed_words.append(word)\n",
    "#     stemmed_text = ' '.join(stemmed_words)\n",
    "#     return stemmed_text\n",
    "\n",
    "\n",
    "X_train['reviewText']=X_train['reviewText'].apply(lambda x: normalize(x))\n",
    "X_test['reviewText']=X_test['reviewText'].apply(lambda x: normalize(x))\n",
    "# X_train['reviewText']=X_train['reviewText'].apply(stem, min_length=5)\n",
    "# X_test['reviewText']=X_test['reviewText'].apply(stem, min_length=5)\n",
    "# X_train['reviewText']=X_train['reviewText'].apply(lambda x: stem(x))\n",
    "# X_test['reviewText']=X_test['reviewText'].apply(lambda x: stem(x))"
   ]
  },
  {
   "cell_type": "code",
   "execution_count": 16,
   "id": "c9ab2eb4",
   "metadata": {
    "execution": {
     "iopub.execute_input": "2023-10-01T05:29:45.081781Z",
     "iopub.status.busy": "2023-10-01T05:29:45.081417Z",
     "iopub.status.idle": "2023-10-01T05:29:45.087061Z",
     "shell.execute_reply": "2023-10-01T05:29:45.085957Z"
    },
    "papermill": {
     "duration": 0.01929,
     "end_time": "2023-10-01T05:29:45.089122",
     "exception": false,
     "start_time": "2023-10-01T05:29:45.069832",
     "status": "completed"
    },
    "tags": []
   },
   "outputs": [
    {
     "name": "stdout",
     "output_type": "stream",
     "text": [
      " check text:\n",
      "    This is a checking text_with punctuation! And    extra       whitespaces. It also has 123 numbers.\n",
      "\n",
      "Normalized text:\n",
      "this is a checking text_with punctuation and extra whitespaces it also has numbers\n"
     ]
    }
   ],
   "source": [
    "check_text = \"    This is a checking text_with punctuation! And    extra       whitespaces. It also has 123 numbers.\"\n",
    "normalized_text = normalize(check_text)\n",
    "# stem_text = stem(normalized_text)\n",
    "\n",
    "print(\" check text:\")\n",
    "print(check_text)\n",
    "print()\n",
    "print(\"Normalized text:\")\n",
    "print(normalized_text)\n",
    "# print(stem_text)"
   ]
  },
  {
   "cell_type": "code",
   "execution_count": 17,
   "id": "782dd2bd",
   "metadata": {
    "execution": {
     "iopub.execute_input": "2023-10-01T05:29:45.111908Z",
     "iopub.status.busy": "2023-10-01T05:29:45.110934Z",
     "iopub.status.idle": "2023-10-01T05:29:45.116006Z",
     "shell.execute_reply": "2023-10-01T05:29:45.114871Z"
    },
    "papermill": {
     "duration": 0.018656,
     "end_time": "2023-10-01T05:29:45.118073",
     "exception": false,
     "start_time": "2023-10-01T05:29:45.099417",
     "status": "completed"
    },
    "tags": []
   },
   "outputs": [],
   "source": [
    "# X_train['movieid'] = X_train['movieid'].str.replace('_', ' ', regex=True)\n",
    "# X_test['movieid']=X_test['movieid'].str.replace('_', ' ', regex=True)"
   ]
  },
  {
   "cell_type": "code",
   "execution_count": 18,
   "id": "c5de209c",
   "metadata": {
    "execution": {
     "iopub.execute_input": "2023-10-01T05:29:45.140911Z",
     "iopub.status.busy": "2023-10-01T05:29:45.140538Z",
     "iopub.status.idle": "2023-10-01T05:29:45.151242Z",
     "shell.execute_reply": "2023-10-01T05:29:45.150217Z"
    },
    "papermill": {
     "duration": 0.024906,
     "end_time": "2023-10-01T05:29:45.153412",
     "exception": false,
     "start_time": "2023-10-01T05:29:45.128506",
     "status": "completed"
    },
    "tags": []
   },
   "outputs": [
    {
     "data": {
      "text/html": [
       "<div>\n",
       "<style scoped>\n",
       "    .dataframe tbody tr th:only-of-type {\n",
       "        vertical-align: middle;\n",
       "    }\n",
       "\n",
       "    .dataframe tbody tr th {\n",
       "        vertical-align: top;\n",
       "    }\n",
       "\n",
       "    .dataframe thead th {\n",
       "        text-align: right;\n",
       "    }\n",
       "</style>\n",
       "<table border=\"1\" class=\"dataframe\">\n",
       "  <thead>\n",
       "    <tr style=\"text-align: right;\">\n",
       "      <th></th>\n",
       "      <th>movieid</th>\n",
       "      <th>reviewerName</th>\n",
       "      <th>isFrequentReviewer</th>\n",
       "      <th>reviewText</th>\n",
       "    </tr>\n",
       "  </thead>\n",
       "  <tbody>\n",
       "    <tr>\n",
       "      <th>0</th>\n",
       "      <td>marvelous_pirate</td>\n",
       "      <td>Benjamin Henry</td>\n",
       "      <td>False</td>\n",
       "      <td>Henry Selick’s first movie since 2009’s Corali...</td>\n",
       "    </tr>\n",
       "    <tr>\n",
       "      <th>1</th>\n",
       "      <td>tony_montana_frodo_baggins_v_rocky_balboa</td>\n",
       "      <td>Felicia Lopez</td>\n",
       "      <td>False</td>\n",
       "      <td>With a cast that reads like the Vogue Oscar pa...</td>\n",
       "    </tr>\n",
       "    <tr>\n",
       "      <th>2</th>\n",
       "      <td>darth_vader_katniss_everdeen_sorcerer_donnie_d...</td>\n",
       "      <td>Mr. Charles Burgess</td>\n",
       "      <td>True</td>\n",
       "      <td>Creed II does not give us anything but another...</td>\n",
       "    </tr>\n",
       "    <tr>\n",
       "      <th>3</th>\n",
       "      <td>lara_croft_glimmer</td>\n",
       "      <td>Ryan Barrett</td>\n",
       "      <td>False</td>\n",
       "      <td>I know what you're thinking, but this is no Li...</td>\n",
       "    </tr>\n",
       "    <tr>\n",
       "      <th>4</th>\n",
       "      <td>jason_bourne_surreal_the_terminator_indiana_jones</td>\n",
       "      <td>Alexander Glover</td>\n",
       "      <td>False</td>\n",
       "      <td>Director Fernando Meirelles tells the story wi...</td>\n",
       "    </tr>\n",
       "  </tbody>\n",
       "</table>\n",
       "</div>"
      ],
      "text/plain": [
       "                                             movieid         reviewerName  \\\n",
       "0                                   marvelous_pirate       Benjamin Henry   \n",
       "1          tony_montana_frodo_baggins_v_rocky_balboa        Felicia Lopez   \n",
       "2  darth_vader_katniss_everdeen_sorcerer_donnie_d...  Mr. Charles Burgess   \n",
       "3                                 lara_croft_glimmer         Ryan Barrett   \n",
       "4  jason_bourne_surreal_the_terminator_indiana_jones     Alexander Glover   \n",
       "\n",
       "   isFrequentReviewer                                         reviewText  \n",
       "0               False  Henry Selick’s first movie since 2009’s Corali...  \n",
       "1               False  With a cast that reads like the Vogue Oscar pa...  \n",
       "2                True  Creed II does not give us anything but another...  \n",
       "3               False  I know what you're thinking, but this is no Li...  \n",
       "4               False  Director Fernando Meirelles tells the story wi...  "
      ]
     },
     "execution_count": 18,
     "metadata": {},
     "output_type": "execute_result"
    }
   ],
   "source": [
    "X[:5]"
   ]
  },
  {
   "cell_type": "code",
   "execution_count": 19,
   "id": "e3cb97ca",
   "metadata": {
    "execution": {
     "iopub.execute_input": "2023-10-01T05:29:45.178365Z",
     "iopub.status.busy": "2023-10-01T05:29:45.177989Z",
     "iopub.status.idle": "2023-10-01T05:29:49.198590Z",
     "shell.execute_reply": "2023-10-01T05:29:49.197472Z"
    },
    "papermill": {
     "duration": 4.03689,
     "end_time": "2023-10-01T05:29:49.200909",
     "exception": false,
     "start_time": "2023-10-01T05:29:45.164019",
     "status": "completed"
    },
    "tags": []
   },
   "outputs": [
    {
     "data": {
      "text/html": [
       "<style>#sk-container-id-1 {color: black;background-color: white;}#sk-container-id-1 pre{padding: 0;}#sk-container-id-1 div.sk-toggleable {background-color: white;}#sk-container-id-1 label.sk-toggleable__label {cursor: pointer;display: block;width: 100%;margin-bottom: 0;padding: 0.3em;box-sizing: border-box;text-align: center;}#sk-container-id-1 label.sk-toggleable__label-arrow:before {content: \"▸\";float: left;margin-right: 0.25em;color: #696969;}#sk-container-id-1 label.sk-toggleable__label-arrow:hover:before {color: black;}#sk-container-id-1 div.sk-estimator:hover label.sk-toggleable__label-arrow:before {color: black;}#sk-container-id-1 div.sk-toggleable__content {max-height: 0;max-width: 0;overflow: hidden;text-align: left;background-color: #f0f8ff;}#sk-container-id-1 div.sk-toggleable__content pre {margin: 0.2em;color: black;border-radius: 0.25em;background-color: #f0f8ff;}#sk-container-id-1 input.sk-toggleable__control:checked~div.sk-toggleable__content {max-height: 200px;max-width: 100%;overflow: auto;}#sk-container-id-1 input.sk-toggleable__control:checked~label.sk-toggleable__label-arrow:before {content: \"▾\";}#sk-container-id-1 div.sk-estimator input.sk-toggleable__control:checked~label.sk-toggleable__label {background-color: #d4ebff;}#sk-container-id-1 div.sk-label input.sk-toggleable__control:checked~label.sk-toggleable__label {background-color: #d4ebff;}#sk-container-id-1 input.sk-hidden--visually {border: 0;clip: rect(1px 1px 1px 1px);clip: rect(1px, 1px, 1px, 1px);height: 1px;margin: -1px;overflow: hidden;padding: 0;position: absolute;width: 1px;}#sk-container-id-1 div.sk-estimator {font-family: monospace;background-color: #f0f8ff;border: 1px dotted black;border-radius: 0.25em;box-sizing: border-box;margin-bottom: 0.5em;}#sk-container-id-1 div.sk-estimator:hover {background-color: #d4ebff;}#sk-container-id-1 div.sk-parallel-item::after {content: \"\";width: 100%;border-bottom: 1px solid gray;flex-grow: 1;}#sk-container-id-1 div.sk-label:hover label.sk-toggleable__label {background-color: #d4ebff;}#sk-container-id-1 div.sk-serial::before {content: \"\";position: absolute;border-left: 1px solid gray;box-sizing: border-box;top: 0;bottom: 0;left: 50%;z-index: 0;}#sk-container-id-1 div.sk-serial {display: flex;flex-direction: column;align-items: center;background-color: white;padding-right: 0.2em;padding-left: 0.2em;position: relative;}#sk-container-id-1 div.sk-item {position: relative;z-index: 1;}#sk-container-id-1 div.sk-parallel {display: flex;align-items: stretch;justify-content: center;background-color: white;position: relative;}#sk-container-id-1 div.sk-item::before, #sk-container-id-1 div.sk-parallel-item::before {content: \"\";position: absolute;border-left: 1px solid gray;box-sizing: border-box;top: 0;bottom: 0;left: 50%;z-index: -1;}#sk-container-id-1 div.sk-parallel-item {display: flex;flex-direction: column;z-index: 1;position: relative;background-color: white;}#sk-container-id-1 div.sk-parallel-item:first-child::after {align-self: flex-end;width: 50%;}#sk-container-id-1 div.sk-parallel-item:last-child::after {align-self: flex-start;width: 50%;}#sk-container-id-1 div.sk-parallel-item:only-child::after {width: 0;}#sk-container-id-1 div.sk-dashed-wrapped {border: 1px dashed gray;margin: 0 0.4em 0.5em 0.4em;box-sizing: border-box;padding-bottom: 0.4em;background-color: white;}#sk-container-id-1 div.sk-label label {font-family: monospace;font-weight: bold;display: inline-block;line-height: 1.2em;}#sk-container-id-1 div.sk-label-container {text-align: center;}#sk-container-id-1 div.sk-container {/* jupyter's `normalize.less` sets `[hidden] { display: none; }` but bootstrap.min.css set `[hidden] { display: none !important; }` so we also need the `!important` here to be able to override the default hidden behavior on the sphinx rendered scikit-learn.org. See: https://github.com/scikit-learn/scikit-learn/issues/21755 */display: inline-block !important;position: relative;}#sk-container-id-1 div.sk-text-repr-fallback {display: none;}</style><div id=\"sk-container-id-1\" class=\"sk-top-container\"><div class=\"sk-text-repr-fallback\"><pre>ColumnTransformer(transformers=[(&#x27;ordinal encoder&#x27;,\n",
       "                                 OrdinalEncoder(handle_unknown=&#x27;use_encoded_value&#x27;,\n",
       "                                                unknown_value=3),\n",
       "                                 [&#x27;isFrequentReviewer&#x27;]),\n",
       "                                (&#x27;onehot encoder&#x27;,\n",
       "                                 OneHotEncoder(handle_unknown=&#x27;ignore&#x27;),\n",
       "                                 [&#x27;reviewerName&#x27;]),\n",
       "                                (&#x27;count vec1&#x27;, CountVectorizer(), &#x27;reviewText&#x27;),\n",
       "                                (&#x27;count vec2&#x27;,\n",
       "                                 OneHotEncoder(handle_unknown=&#x27;ignore&#x27;),\n",
       "                                 [&#x27;movieid&#x27;])])</pre><b>In a Jupyter environment, please rerun this cell to show the HTML representation or trust the notebook. <br />On GitHub, the HTML representation is unable to render, please try loading this page with nbviewer.org.</b></div><div class=\"sk-container\" hidden><div class=\"sk-item sk-dashed-wrapped\"><div class=\"sk-label-container\"><div class=\"sk-label sk-toggleable\"><input class=\"sk-toggleable__control sk-hidden--visually\" id=\"sk-estimator-id-1\" type=\"checkbox\" ><label for=\"sk-estimator-id-1\" class=\"sk-toggleable__label sk-toggleable__label-arrow\">ColumnTransformer</label><div class=\"sk-toggleable__content\"><pre>ColumnTransformer(transformers=[(&#x27;ordinal encoder&#x27;,\n",
       "                                 OrdinalEncoder(handle_unknown=&#x27;use_encoded_value&#x27;,\n",
       "                                                unknown_value=3),\n",
       "                                 [&#x27;isFrequentReviewer&#x27;]),\n",
       "                                (&#x27;onehot encoder&#x27;,\n",
       "                                 OneHotEncoder(handle_unknown=&#x27;ignore&#x27;),\n",
       "                                 [&#x27;reviewerName&#x27;]),\n",
       "                                (&#x27;count vec1&#x27;, CountVectorizer(), &#x27;reviewText&#x27;),\n",
       "                                (&#x27;count vec2&#x27;,\n",
       "                                 OneHotEncoder(handle_unknown=&#x27;ignore&#x27;),\n",
       "                                 [&#x27;movieid&#x27;])])</pre></div></div></div><div class=\"sk-parallel\"><div class=\"sk-parallel-item\"><div class=\"sk-item\"><div class=\"sk-label-container\"><div class=\"sk-label sk-toggleable\"><input class=\"sk-toggleable__control sk-hidden--visually\" id=\"sk-estimator-id-2\" type=\"checkbox\" ><label for=\"sk-estimator-id-2\" class=\"sk-toggleable__label sk-toggleable__label-arrow\">ordinal encoder</label><div class=\"sk-toggleable__content\"><pre>[&#x27;isFrequentReviewer&#x27;]</pre></div></div></div><div class=\"sk-serial\"><div class=\"sk-item\"><div class=\"sk-estimator sk-toggleable\"><input class=\"sk-toggleable__control sk-hidden--visually\" id=\"sk-estimator-id-3\" type=\"checkbox\" ><label for=\"sk-estimator-id-3\" class=\"sk-toggleable__label sk-toggleable__label-arrow\">OrdinalEncoder</label><div class=\"sk-toggleable__content\"><pre>OrdinalEncoder(handle_unknown=&#x27;use_encoded_value&#x27;, unknown_value=3)</pre></div></div></div></div></div></div><div class=\"sk-parallel-item\"><div class=\"sk-item\"><div class=\"sk-label-container\"><div class=\"sk-label sk-toggleable\"><input class=\"sk-toggleable__control sk-hidden--visually\" id=\"sk-estimator-id-4\" type=\"checkbox\" ><label for=\"sk-estimator-id-4\" class=\"sk-toggleable__label sk-toggleable__label-arrow\">onehot encoder</label><div class=\"sk-toggleable__content\"><pre>[&#x27;reviewerName&#x27;]</pre></div></div></div><div class=\"sk-serial\"><div class=\"sk-item\"><div class=\"sk-estimator sk-toggleable\"><input class=\"sk-toggleable__control sk-hidden--visually\" id=\"sk-estimator-id-5\" type=\"checkbox\" ><label for=\"sk-estimator-id-5\" class=\"sk-toggleable__label sk-toggleable__label-arrow\">OneHotEncoder</label><div class=\"sk-toggleable__content\"><pre>OneHotEncoder(handle_unknown=&#x27;ignore&#x27;)</pre></div></div></div></div></div></div><div class=\"sk-parallel-item\"><div class=\"sk-item\"><div class=\"sk-label-container\"><div class=\"sk-label sk-toggleable\"><input class=\"sk-toggleable__control sk-hidden--visually\" id=\"sk-estimator-id-6\" type=\"checkbox\" ><label for=\"sk-estimator-id-6\" class=\"sk-toggleable__label sk-toggleable__label-arrow\">count vec1</label><div class=\"sk-toggleable__content\"><pre>reviewText</pre></div></div></div><div class=\"sk-serial\"><div class=\"sk-item\"><div class=\"sk-estimator sk-toggleable\"><input class=\"sk-toggleable__control sk-hidden--visually\" id=\"sk-estimator-id-7\" type=\"checkbox\" ><label for=\"sk-estimator-id-7\" class=\"sk-toggleable__label sk-toggleable__label-arrow\">CountVectorizer</label><div class=\"sk-toggleable__content\"><pre>CountVectorizer()</pre></div></div></div></div></div></div><div class=\"sk-parallel-item\"><div class=\"sk-item\"><div class=\"sk-label-container\"><div class=\"sk-label sk-toggleable\"><input class=\"sk-toggleable__control sk-hidden--visually\" id=\"sk-estimator-id-8\" type=\"checkbox\" ><label for=\"sk-estimator-id-8\" class=\"sk-toggleable__label sk-toggleable__label-arrow\">count vec2</label><div class=\"sk-toggleable__content\"><pre>[&#x27;movieid&#x27;]</pre></div></div></div><div class=\"sk-serial\"><div class=\"sk-item\"><div class=\"sk-estimator sk-toggleable\"><input class=\"sk-toggleable__control sk-hidden--visually\" id=\"sk-estimator-id-9\" type=\"checkbox\" ><label for=\"sk-estimator-id-9\" class=\"sk-toggleable__label sk-toggleable__label-arrow\">OneHotEncoder</label><div class=\"sk-toggleable__content\"><pre>OneHotEncoder(handle_unknown=&#x27;ignore&#x27;)</pre></div></div></div></div></div></div></div></div></div></div>"
      ],
      "text/plain": [
       "ColumnTransformer(transformers=[('ordinal encoder',\n",
       "                                 OrdinalEncoder(handle_unknown='use_encoded_value',\n",
       "                                                unknown_value=3),\n",
       "                                 ['isFrequentReviewer']),\n",
       "                                ('onehot encoder',\n",
       "                                 OneHotEncoder(handle_unknown='ignore'),\n",
       "                                 ['reviewerName']),\n",
       "                                ('count vec1', CountVectorizer(), 'reviewText'),\n",
       "                                ('count vec2',\n",
       "                                 OneHotEncoder(handle_unknown='ignore'),\n",
       "                                 ['movieid'])])"
      ]
     },
     "execution_count": 19,
     "metadata": {},
     "output_type": "execute_result"
    }
   ],
   "source": [
    "from sklearn.compose import ColumnTransformer\n",
    "from sklearn.preprocessing import OrdinalEncoder, OneHotEncoder\n",
    "from sklearn.feature_extraction.text import CountVectorizer\n",
    "\n",
    "#countv=CountVectorizer(stop_words=['a','an','the','is','are'])\n",
    "#countv.fit(review)\n",
    "countv=CountVectorizer()\n",
    "ctf = ColumnTransformer(\n",
    "    transformers=[\n",
    "        ('ordinal encoder', OrdinalEncoder(handle_unknown='use_encoded_value',unknown_value=3), ['isFrequentReviewer']),\n",
    "        ('onehot encoder', OneHotEncoder(handle_unknown='ignore'), ['reviewerName']),\n",
    "        ('count vec1', countv , 'reviewText'),\n",
    "        ('count vec2', OneHotEncoder(handle_unknown='ignore'), ['movieid'])\n",
    "    ])\n",
    "\n",
    "ctf.fit(X_train)"
   ]
  },
  {
   "cell_type": "code",
   "execution_count": 20,
   "id": "764cf0c0",
   "metadata": {
    "execution": {
     "iopub.execute_input": "2023-10-01T05:29:49.224298Z",
     "iopub.status.busy": "2023-10-01T05:29:49.223920Z",
     "iopub.status.idle": "2023-10-01T05:29:52.729625Z",
     "shell.execute_reply": "2023-10-01T05:29:52.728703Z"
    },
    "papermill": {
     "duration": 3.520261,
     "end_time": "2023-10-01T05:29:52.732023",
     "exception": false,
     "start_time": "2023-10-01T05:29:49.211762",
     "status": "completed"
    },
    "tags": []
   },
   "outputs": [],
   "source": [
    "X_train_transformed = ctf.transform(X_train)\n",
    "X_test_transformed = ctf.transform(X_test)"
   ]
  },
  {
   "cell_type": "code",
   "execution_count": 21,
   "id": "571c7fb3",
   "metadata": {
    "execution": {
     "iopub.execute_input": "2023-10-01T05:29:52.754562Z",
     "iopub.status.busy": "2023-10-01T05:29:52.754193Z",
     "iopub.status.idle": "2023-10-01T05:29:52.760433Z",
     "shell.execute_reply": "2023-10-01T05:29:52.759445Z"
    },
    "papermill": {
     "duration": 0.020216,
     "end_time": "2023-10-01T05:29:52.762653",
     "exception": false,
     "start_time": "2023-10-01T05:29:52.742437",
     "status": "completed"
    },
    "tags": []
   },
   "outputs": [
    {
     "data": {
      "text/plain": [
       "((156154, 109898), (157, 109898))"
      ]
     },
     "execution_count": 21,
     "metadata": {},
     "output_type": "execute_result"
    }
   ],
   "source": [
    "X_train_transformed.shape,X_test_transformed.shape"
   ]
  },
  {
   "cell_type": "code",
   "execution_count": 22,
   "id": "3b5d3eb7",
   "metadata": {
    "execution": {
     "iopub.execute_input": "2023-10-01T05:29:52.786242Z",
     "iopub.status.busy": "2023-10-01T05:29:52.785883Z",
     "iopub.status.idle": "2023-10-01T05:29:56.705995Z",
     "shell.execute_reply": "2023-10-01T05:29:56.704957Z"
    },
    "papermill": {
     "duration": 3.934481,
     "end_time": "2023-10-01T05:29:56.708141",
     "exception": false,
     "start_time": "2023-10-01T05:29:52.773660",
     "status": "completed"
    },
    "tags": []
   },
   "outputs": [
    {
     "data": {
      "text/html": [
       "<style>#sk-container-id-2 {color: black;background-color: white;}#sk-container-id-2 pre{padding: 0;}#sk-container-id-2 div.sk-toggleable {background-color: white;}#sk-container-id-2 label.sk-toggleable__label {cursor: pointer;display: block;width: 100%;margin-bottom: 0;padding: 0.3em;box-sizing: border-box;text-align: center;}#sk-container-id-2 label.sk-toggleable__label-arrow:before {content: \"▸\";float: left;margin-right: 0.25em;color: #696969;}#sk-container-id-2 label.sk-toggleable__label-arrow:hover:before {color: black;}#sk-container-id-2 div.sk-estimator:hover label.sk-toggleable__label-arrow:before {color: black;}#sk-container-id-2 div.sk-toggleable__content {max-height: 0;max-width: 0;overflow: hidden;text-align: left;background-color: #f0f8ff;}#sk-container-id-2 div.sk-toggleable__content pre {margin: 0.2em;color: black;border-radius: 0.25em;background-color: #f0f8ff;}#sk-container-id-2 input.sk-toggleable__control:checked~div.sk-toggleable__content {max-height: 200px;max-width: 100%;overflow: auto;}#sk-container-id-2 input.sk-toggleable__control:checked~label.sk-toggleable__label-arrow:before {content: \"▾\";}#sk-container-id-2 div.sk-estimator input.sk-toggleable__control:checked~label.sk-toggleable__label {background-color: #d4ebff;}#sk-container-id-2 div.sk-label input.sk-toggleable__control:checked~label.sk-toggleable__label {background-color: #d4ebff;}#sk-container-id-2 input.sk-hidden--visually {border: 0;clip: rect(1px 1px 1px 1px);clip: rect(1px, 1px, 1px, 1px);height: 1px;margin: -1px;overflow: hidden;padding: 0;position: absolute;width: 1px;}#sk-container-id-2 div.sk-estimator {font-family: monospace;background-color: #f0f8ff;border: 1px dotted black;border-radius: 0.25em;box-sizing: border-box;margin-bottom: 0.5em;}#sk-container-id-2 div.sk-estimator:hover {background-color: #d4ebff;}#sk-container-id-2 div.sk-parallel-item::after {content: \"\";width: 100%;border-bottom: 1px solid gray;flex-grow: 1;}#sk-container-id-2 div.sk-label:hover label.sk-toggleable__label {background-color: #d4ebff;}#sk-container-id-2 div.sk-serial::before {content: \"\";position: absolute;border-left: 1px solid gray;box-sizing: border-box;top: 0;bottom: 0;left: 50%;z-index: 0;}#sk-container-id-2 div.sk-serial {display: flex;flex-direction: column;align-items: center;background-color: white;padding-right: 0.2em;padding-left: 0.2em;position: relative;}#sk-container-id-2 div.sk-item {position: relative;z-index: 1;}#sk-container-id-2 div.sk-parallel {display: flex;align-items: stretch;justify-content: center;background-color: white;position: relative;}#sk-container-id-2 div.sk-item::before, #sk-container-id-2 div.sk-parallel-item::before {content: \"\";position: absolute;border-left: 1px solid gray;box-sizing: border-box;top: 0;bottom: 0;left: 50%;z-index: -1;}#sk-container-id-2 div.sk-parallel-item {display: flex;flex-direction: column;z-index: 1;position: relative;background-color: white;}#sk-container-id-2 div.sk-parallel-item:first-child::after {align-self: flex-end;width: 50%;}#sk-container-id-2 div.sk-parallel-item:last-child::after {align-self: flex-start;width: 50%;}#sk-container-id-2 div.sk-parallel-item:only-child::after {width: 0;}#sk-container-id-2 div.sk-dashed-wrapped {border: 1px dashed gray;margin: 0 0.4em 0.5em 0.4em;box-sizing: border-box;padding-bottom: 0.4em;background-color: white;}#sk-container-id-2 div.sk-label label {font-family: monospace;font-weight: bold;display: inline-block;line-height: 1.2em;}#sk-container-id-2 div.sk-label-container {text-align: center;}#sk-container-id-2 div.sk-container {/* jupyter's `normalize.less` sets `[hidden] { display: none; }` but bootstrap.min.css set `[hidden] { display: none !important; }` so we also need the `!important` here to be able to override the default hidden behavior on the sphinx rendered scikit-learn.org. See: https://github.com/scikit-learn/scikit-learn/issues/21755 */display: inline-block !important;position: relative;}#sk-container-id-2 div.sk-text-repr-fallback {display: none;}</style><div id=\"sk-container-id-2\" class=\"sk-top-container\"><div class=\"sk-text-repr-fallback\"><pre>ColumnTransformer(transformers=[(&#x27;tfidf vec1&#x27;, TfidfVectorizer(), &#x27;reviewText&#x27;),\n",
       "                                (&#x27;tfidf ohe&#x27;,\n",
       "                                 OneHotEncoder(handle_unknown=&#x27;ignore&#x27;),\n",
       "                                 [&#x27;movieid&#x27;, &#x27;reviewerName&#x27;,\n",
       "                                  &#x27;isFrequentReviewer&#x27;])])</pre><b>In a Jupyter environment, please rerun this cell to show the HTML representation or trust the notebook. <br />On GitHub, the HTML representation is unable to render, please try loading this page with nbviewer.org.</b></div><div class=\"sk-container\" hidden><div class=\"sk-item sk-dashed-wrapped\"><div class=\"sk-label-container\"><div class=\"sk-label sk-toggleable\"><input class=\"sk-toggleable__control sk-hidden--visually\" id=\"sk-estimator-id-10\" type=\"checkbox\" ><label for=\"sk-estimator-id-10\" class=\"sk-toggleable__label sk-toggleable__label-arrow\">ColumnTransformer</label><div class=\"sk-toggleable__content\"><pre>ColumnTransformer(transformers=[(&#x27;tfidf vec1&#x27;, TfidfVectorizer(), &#x27;reviewText&#x27;),\n",
       "                                (&#x27;tfidf ohe&#x27;,\n",
       "                                 OneHotEncoder(handle_unknown=&#x27;ignore&#x27;),\n",
       "                                 [&#x27;movieid&#x27;, &#x27;reviewerName&#x27;,\n",
       "                                  &#x27;isFrequentReviewer&#x27;])])</pre></div></div></div><div class=\"sk-parallel\"><div class=\"sk-parallel-item\"><div class=\"sk-item\"><div class=\"sk-label-container\"><div class=\"sk-label sk-toggleable\"><input class=\"sk-toggleable__control sk-hidden--visually\" id=\"sk-estimator-id-11\" type=\"checkbox\" ><label for=\"sk-estimator-id-11\" class=\"sk-toggleable__label sk-toggleable__label-arrow\">tfidf vec1</label><div class=\"sk-toggleable__content\"><pre>reviewText</pre></div></div></div><div class=\"sk-serial\"><div class=\"sk-item\"><div class=\"sk-estimator sk-toggleable\"><input class=\"sk-toggleable__control sk-hidden--visually\" id=\"sk-estimator-id-12\" type=\"checkbox\" ><label for=\"sk-estimator-id-12\" class=\"sk-toggleable__label sk-toggleable__label-arrow\">TfidfVectorizer</label><div class=\"sk-toggleable__content\"><pre>TfidfVectorizer()</pre></div></div></div></div></div></div><div class=\"sk-parallel-item\"><div class=\"sk-item\"><div class=\"sk-label-container\"><div class=\"sk-label sk-toggleable\"><input class=\"sk-toggleable__control sk-hidden--visually\" id=\"sk-estimator-id-13\" type=\"checkbox\" ><label for=\"sk-estimator-id-13\" class=\"sk-toggleable__label sk-toggleable__label-arrow\">tfidf ohe</label><div class=\"sk-toggleable__content\"><pre>[&#x27;movieid&#x27;, &#x27;reviewerName&#x27;, &#x27;isFrequentReviewer&#x27;]</pre></div></div></div><div class=\"sk-serial\"><div class=\"sk-item\"><div class=\"sk-estimator sk-toggleable\"><input class=\"sk-toggleable__control sk-hidden--visually\" id=\"sk-estimator-id-14\" type=\"checkbox\" ><label for=\"sk-estimator-id-14\" class=\"sk-toggleable__label sk-toggleable__label-arrow\">OneHotEncoder</label><div class=\"sk-toggleable__content\"><pre>OneHotEncoder(handle_unknown=&#x27;ignore&#x27;)</pre></div></div></div></div></div></div></div></div></div></div>"
      ],
      "text/plain": [
       "ColumnTransformer(transformers=[('tfidf vec1', TfidfVectorizer(), 'reviewText'),\n",
       "                                ('tfidf ohe',\n",
       "                                 OneHotEncoder(handle_unknown='ignore'),\n",
       "                                 ['movieid', 'reviewerName',\n",
       "                                  'isFrequentReviewer'])])"
      ]
     },
     "execution_count": 22,
     "metadata": {},
     "output_type": "execute_result"
    }
   ],
   "source": [
    "from sklearn.feature_extraction.text import TfidfVectorizer\n",
    "tfidf=TfidfVectorizer()\n",
    "ctf1 = ColumnTransformer(\n",
    "    transformers=[\n",
    "        ('tfidf vec1',tfidf , 'reviewText'),\n",
    "        ('tfidf ohe', OneHotEncoder(handle_unknown='ignore'), ['movieid','reviewerName','isFrequentReviewer'])\n",
    "    ])\n",
    "\n",
    "ctf1.fit(X_train)"
   ]
  },
  {
   "cell_type": "code",
   "execution_count": 23,
   "id": "e244edae",
   "metadata": {
    "execution": {
     "iopub.execute_input": "2023-10-01T05:29:56.731820Z",
     "iopub.status.busy": "2023-10-01T05:29:56.731462Z",
     "iopub.status.idle": "2023-10-01T05:30:00.338916Z",
     "shell.execute_reply": "2023-10-01T05:30:00.337882Z"
    },
    "papermill": {
     "duration": 3.622106,
     "end_time": "2023-10-01T05:30:00.341193",
     "exception": false,
     "start_time": "2023-10-01T05:29:56.719087",
     "status": "completed"
    },
    "tags": []
   },
   "outputs": [
    {
     "data": {
      "text/plain": [
       "((156154, 109899), (157, 109899))"
      ]
     },
     "execution_count": 23,
     "metadata": {},
     "output_type": "execute_result"
    }
   ],
   "source": [
    "X_train_transformed1 = ctf1.transform(X_train)\n",
    "X_test_transformed1 = ctf1.transform(X_test)\n",
    "X_train_transformed1.shape,X_test_transformed1.shape"
   ]
  },
  {
   "cell_type": "code",
   "execution_count": 24,
   "id": "e2e254e8",
   "metadata": {
    "execution": {
     "iopub.execute_input": "2023-10-01T05:30:00.365912Z",
     "iopub.status.busy": "2023-10-01T05:30:00.364953Z",
     "iopub.status.idle": "2023-10-01T05:30:00.593995Z",
     "shell.execute_reply": "2023-10-01T05:30:00.593155Z"
    },
    "papermill": {
     "duration": 0.243807,
     "end_time": "2023-10-01T05:30:00.596242",
     "exception": false,
     "start_time": "2023-10-01T05:30:00.352435",
     "status": "completed"
    },
    "tags": []
   },
   "outputs": [],
   "source": [
    "from sklearn.impute import SimpleImputer\n",
    "si=SimpleImputer(strategy='most_frequent')"
   ]
  },
  {
   "cell_type": "markdown",
   "id": "cd1f2a88",
   "metadata": {
    "papermill": {
     "duration": 0.010661,
     "end_time": "2023-10-01T05:30:00.618415",
     "exception": false,
     "start_time": "2023-10-01T05:30:00.607754",
     "status": "completed"
    },
    "tags": []
   },
   "source": [
    "### Models"
   ]
  },
  {
   "cell_type": "code",
   "execution_count": 25,
   "id": "b2fb33bb",
   "metadata": {
    "execution": {
     "iopub.execute_input": "2023-10-01T05:30:00.642538Z",
     "iopub.status.busy": "2023-10-01T05:30:00.641668Z",
     "iopub.status.idle": "2023-10-01T05:31:02.418484Z",
     "shell.execute_reply": "2023-10-01T05:31:02.417435Z"
    },
    "papermill": {
     "duration": 61.791674,
     "end_time": "2023-10-01T05:31:02.421066",
     "exception": false,
     "start_time": "2023-10-01T05:30:00.629392",
     "status": "completed"
    },
    "tags": []
   },
   "outputs": [
    {
     "name": "stdout",
     "output_type": "stream",
     "text": [
      "On countVectorizer\n",
      "Accuracy_score: 0.8280254777070064 F1_score: 0.8789237668161435\n",
      "===========================================================\n",
      "tfidfVectorizer\n",
      "Accuracy_score: 0.8535031847133758 F1_score: 0.8940092165898618\n"
     ]
    }
   ],
   "source": [
    "from sklearn.linear_model import LogisticRegression\n",
    "from sklearn.metrics import f1_score,accuracy_score\n",
    "\n",
    "lg1=LogisticRegression(max_iter=10000,solver='saga')\n",
    "print(\"On countVectorizer\")\n",
    "lg1.fit(X_train_transformed,y_train)\n",
    "lg1_pred=lg1.predict(X_test_transformed)\n",
    "print(\"Accuracy_score:\",accuracy_score(lg1_pred,y_test),\"F1_score:\",f1_score(lg1_pred,y_test,pos_label='POSITIVE'))\n",
    "\n",
    "print(\"===========================================================\")\n",
    "\n",
    "lg2=LogisticRegression(max_iter=5000,solver='saga')\n",
    "print(\"tfidfVectorizer\")\n",
    "lg2.fit(X_train_transformed1,y_train)\n",
    "lg2_pred=lg2.predict(X_test_transformed1)\n",
    "print(\"Accuracy_score:\",accuracy_score(lg2_pred,y_test),\"F1_score:\",f1_score(lg2_pred,y_test,pos_label='POSITIVE'))\n"
   ]
  },
  {
   "cell_type": "code",
   "execution_count": 26,
   "id": "0e96ab1f",
   "metadata": {
    "execution": {
     "iopub.execute_input": "2023-10-01T05:31:02.446220Z",
     "iopub.status.busy": "2023-10-01T05:31:02.445833Z",
     "iopub.status.idle": "2023-10-01T05:31:31.133575Z",
     "shell.execute_reply": "2023-10-01T05:31:31.132392Z"
    },
    "papermill": {
     "duration": 28.703261,
     "end_time": "2023-10-01T05:31:31.135620",
     "exception": false,
     "start_time": "2023-10-01T05:31:02.432359",
     "status": "completed"
    },
    "tags": []
   },
   "outputs": [
    {
     "name": "stdout",
     "output_type": "stream",
     "text": [
      "Accuracy_score: 0.8535031847133758 F1_score: 0.8940092165898618\n"
     ]
    }
   ],
   "source": [
    "from sklearn.pipeline import Pipeline\n",
    "\n",
    "lg_pipe = Pipeline([\n",
    "    ('preprocessor', ctf1),\n",
    "    ('lg', lg1)\n",
    "])\n",
    "\n",
    "\n",
    "lg_pipe.fit(X_train, y_train)\n",
    "\n",
    "lg_pipe_pred = lg_pipe.predict(X_test)\n",
    "print(\"Accuracy_score:\",accuracy_score(lg_pipe_pred,y_test),\"F1_score:\",f1_score(lg_pipe_pred,y_test,pos_label='POSITIVE'))\n"
   ]
  },
  {
   "cell_type": "code",
   "execution_count": 27,
   "id": "834ab019",
   "metadata": {
    "execution": {
     "iopub.execute_input": "2023-10-01T05:31:31.160204Z",
     "iopub.status.busy": "2023-10-01T05:31:31.159811Z",
     "iopub.status.idle": "2023-10-01T05:31:31.166568Z",
     "shell.execute_reply": "2023-10-01T05:31:31.165360Z"
    },
    "papermill": {
     "duration": 0.021735,
     "end_time": "2023-10-01T05:31:31.168827",
     "exception": false,
     "start_time": "2023-10-01T05:31:31.147092",
     "status": "completed"
    },
    "tags": []
   },
   "outputs": [
    {
     "data": {
      "text/plain": [
       "\"from sklearn.tree import DecisionTreeClassifier\\ndtc=DecisionTreeClassifier(criterion='gini')\\ndtc.fit(X_train_transformed1,y_train)\\ndtc_pred=dtc.predict(X_test_transformed1)\\naccuracy_score(dtc_pred,y_test),f1_score(dtc_pred,y_test,pos_label='POSITIVE')\""
      ]
     },
     "execution_count": 27,
     "metadata": {},
     "output_type": "execute_result"
    }
   ],
   "source": [
    "'''from sklearn.tree import DecisionTreeClassifier\n",
    "dtc=DecisionTreeClassifier(criterion='gini')\n",
    "dtc.fit(X_train_transformed1,y_train)\n",
    "dtc_pred=dtc.predict(X_test_transformed1)\n",
    "accuracy_score(dtc_pred,y_test),f1_score(dtc_pred,y_test,pos_label='POSITIVE')'''\n",
    "\n",
    "# output:(0.6756514692711221, 0.7627071047458578)"
   ]
  },
  {
   "cell_type": "code",
   "execution_count": 28,
   "id": "24b93fff",
   "metadata": {
    "execution": {
     "iopub.execute_input": "2023-10-01T05:31:31.193378Z",
     "iopub.status.busy": "2023-10-01T05:31:31.193027Z",
     "iopub.status.idle": "2023-10-01T05:31:32.486157Z",
     "shell.execute_reply": "2023-10-01T05:31:32.484571Z"
    },
    "papermill": {
     "duration": 1.309435,
     "end_time": "2023-10-01T05:31:32.489841",
     "exception": false,
     "start_time": "2023-10-01T05:31:31.180406",
     "status": "completed"
    },
    "tags": []
   },
   "outputs": [
    {
     "name": "stdout",
     "output_type": "stream",
     "text": [
      "On countVectorizer\n",
      "Accuracy_score: 0.8343949044585988 F1_score: 0.8761904761904762\n",
      "===========================================================\n",
      "On tfidfVectorizer\n",
      "Accuracy_score: 0.8089171974522293 F1_score: 0.8695652173913043\n"
     ]
    }
   ],
   "source": [
    "from sklearn.naive_bayes import MultinomialNB\n",
    "\n",
    "mnb1=MultinomialNB()\n",
    "print(\"On countVectorizer\")\n",
    "mnb1.fit(X_train_transformed,y_train)\n",
    "mnb1_pred=mnb1.predict(X_test_transformed)\n",
    "print(\"Accuracy_score:\",accuracy_score(mnb1_pred,y_test),\"F1_score:\",f1_score(mnb1_pred,y_test,pos_label='POSITIVE'))\n",
    "\n",
    "print(\"===========================================================\")\n",
    "\n",
    "mnb2=MultinomialNB()\n",
    "print(\"On tfidfVectorizer\")\n",
    "mnb2.fit(X_train_transformed1,y_train)\n",
    "mnb2_pred=mnb2.predict(X_test_transformed1)\n",
    "print(\"Accuracy_score:\",accuracy_score(mnb2_pred,y_test),\"F1_score:\",f1_score(mnb2_pred,y_test,pos_label='POSITIVE'))\n"
   ]
  },
  {
   "cell_type": "code",
   "execution_count": 29,
   "id": "61a1f9a8",
   "metadata": {
    "execution": {
     "iopub.execute_input": "2023-10-01T05:31:32.523556Z",
     "iopub.status.busy": "2023-10-01T05:31:32.522444Z",
     "iopub.status.idle": "2023-10-01T05:31:32.532614Z",
     "shell.execute_reply": "2023-10-01T05:31:32.530998Z"
    },
    "papermill": {
     "duration": 0.029702,
     "end_time": "2023-10-01T05:31:32.535012",
     "exception": false,
     "start_time": "2023-10-01T05:31:32.505310",
     "status": "completed"
    },
    "tags": []
   },
   "outputs": [
    {
     "data": {
      "text/plain": [
       "\"from sklearn.model_selection import GridSearchCV\\nfrom sklearn.linear_model import SGDClassifier\\n\\nsgd_param = {\\n    'loss': ['hinge', 'log_loss', 'modified_huber'],\\n    'penalty': ['l2', 'elasticnet'],\\n    'alpha': [0.0001, 0.001, 0.01],\\n    'max_iter': [1000, 2000, 3000],\\n}\\n\\nsgd=SGDClassifier(random_state=1)\\nsgd_grid_search = GridSearchCV(sgd, sgd_param, cv=5, scoring='accuracy')\\nsgd_grid_search.fit(X_train_transformed, y_train)\""
      ]
     },
     "execution_count": 29,
     "metadata": {},
     "output_type": "execute_result"
    }
   ],
   "source": [
    "'''from sklearn.model_selection import GridSearchCV\n",
    "from sklearn.linear_model import SGDClassifier\n",
    "\n",
    "sgd_param = {\n",
    "    'loss': ['hinge', 'log_loss', 'modified_huber'],\n",
    "    'penalty': ['l2', 'elasticnet'],\n",
    "    'alpha': [0.0001, 0.001, 0.01],\n",
    "    'max_iter': [1000, 2000, 3000],\n",
    "}\n",
    "\n",
    "sgd=SGDClassifier(random_state=1)\n",
    "sgd_grid_search = GridSearchCV(sgd, sgd_param, cv=5, scoring='accuracy')\n",
    "sgd_grid_search.fit(X_train_transformed, y_train)'''\n"
   ]
  },
  {
   "cell_type": "code",
   "execution_count": 30,
   "id": "d5d0b583",
   "metadata": {
    "execution": {
     "iopub.execute_input": "2023-10-01T05:31:32.562334Z",
     "iopub.status.busy": "2023-10-01T05:31:32.561906Z",
     "iopub.status.idle": "2023-10-01T05:31:32.566041Z",
     "shell.execute_reply": "2023-10-01T05:31:32.565196Z"
    },
    "papermill": {
     "duration": 0.020118,
     "end_time": "2023-10-01T05:31:32.568707",
     "exception": false,
     "start_time": "2023-10-01T05:31:32.548589",
     "status": "completed"
    },
    "tags": []
   },
   "outputs": [],
   "source": [
    "# best_params = sgd_grid_search.best_params_\n",
    "# best_score = sgd_grid_search.best_score_\n",
    "# print(best_params)\n",
    "# print(best_score)"
   ]
  },
  {
   "cell_type": "code",
   "execution_count": 31,
   "id": "3fe35471",
   "metadata": {
    "execution": {
     "iopub.execute_input": "2023-10-01T05:31:32.599792Z",
     "iopub.status.busy": "2023-10-01T05:31:32.599251Z",
     "iopub.status.idle": "2023-10-01T05:31:35.393994Z",
     "shell.execute_reply": "2023-10-01T05:31:35.392792Z"
    },
    "papermill": {
     "duration": 2.809977,
     "end_time": "2023-10-01T05:31:35.396081",
     "exception": false,
     "start_time": "2023-10-01T05:31:32.586104",
     "status": "completed"
    },
    "tags": []
   },
   "outputs": [
    {
     "name": "stdout",
     "output_type": "stream",
     "text": [
      "On countVectorizer\n",
      "Accuracy_score: 0.802547770700637 F1_score: 0.8571428571428572\n",
      "===========================================================\n",
      "On tfidfVectorizer\n",
      "Accuracy_score: 0.8535031847133758 F1_score: 0.8949771689497716\n"
     ]
    }
   ],
   "source": [
    "from sklearn.linear_model import SGDClassifier\n",
    "sgd1=SGDClassifier(loss='modified_huber')\n",
    "print(\"On countVectorizer\")\n",
    "sgd1.fit(X_train_transformed,y_train)\n",
    "sgd1_pred=sgd1.predict(X_test_transformed)\n",
    "print(\"Accuracy_score:\",accuracy_score(sgd1_pred,y_test),\"F1_score:\",f1_score(sgd1_pred,y_test,pos_label='POSITIVE'))\n",
    "print(\"===========================================================\")\n",
    "\n",
    "sgd2=SGDClassifier(loss='modified_huber')\n",
    "print(\"On tfidfVectorizer\")\n",
    "sgd2.fit(X_train_transformed1,y_train)\n",
    "sgd2_pred=sgd2.predict(X_test_transformed1)\n",
    "print(\"Accuracy_score:\",accuracy_score(sgd2_pred,y_test),\"F1_score:\",f1_score(sgd2_pred,y_test,pos_label='POSITIVE'))"
   ]
  },
  {
   "cell_type": "code",
   "execution_count": 32,
   "id": "ea9abcd7",
   "metadata": {
    "execution": {
     "iopub.execute_input": "2023-10-01T05:31:35.422149Z",
     "iopub.status.busy": "2023-10-01T05:31:35.421695Z",
     "iopub.status.idle": "2023-10-01T05:31:35.431481Z",
     "shell.execute_reply": "2023-10-01T05:31:35.430325Z"
    },
    "papermill": {
     "duration": 0.025412,
     "end_time": "2023-10-01T05:31:35.433433",
     "exception": false,
     "start_time": "2023-10-01T05:31:35.408021",
     "status": "completed"
    },
    "tags": []
   },
   "outputs": [
    {
     "data": {
      "text/plain": [
       "array([[36,  7],\n",
       "       [16, 98]])"
      ]
     },
     "execution_count": 32,
     "metadata": {},
     "output_type": "execute_result"
    }
   ],
   "source": [
    "from sklearn.metrics import confusion_matrix\n",
    "cm=confusion_matrix(sgd2_pred, y_test)\n",
    "cm"
   ]
  },
  {
   "cell_type": "code",
   "execution_count": 33,
   "id": "9ac7b0db",
   "metadata": {
    "execution": {
     "iopub.execute_input": "2023-10-01T05:31:35.459709Z",
     "iopub.status.busy": "2023-10-01T05:31:35.458814Z",
     "iopub.status.idle": "2023-10-01T05:31:35.466950Z",
     "shell.execute_reply": "2023-10-01T05:31:35.465788Z"
    },
    "papermill": {
     "duration": 0.023932,
     "end_time": "2023-10-01T05:31:35.469439",
     "exception": false,
     "start_time": "2023-10-01T05:31:35.445507",
     "status": "completed"
    },
    "tags": []
   },
   "outputs": [
    {
     "data": {
      "text/plain": [
       "array([[37,  8],\n",
       "       [15, 97]])"
      ]
     },
     "execution_count": 33,
     "metadata": {},
     "output_type": "execute_result"
    }
   ],
   "source": [
    "from sklearn.metrics import confusion_matrix\n",
    "cm1=confusion_matrix(lg2_pred, y_test)\n",
    "cm1"
   ]
  },
  {
   "cell_type": "code",
   "execution_count": 34,
   "id": "82aee290",
   "metadata": {
    "execution": {
     "iopub.execute_input": "2023-10-01T05:31:35.495180Z",
     "iopub.status.busy": "2023-10-01T05:31:35.494788Z",
     "iopub.status.idle": "2023-10-01T05:31:35.801386Z",
     "shell.execute_reply": "2023-10-01T05:31:35.800471Z"
    },
    "papermill": {
     "duration": 0.322106,
     "end_time": "2023-10-01T05:31:35.803636",
     "exception": false,
     "start_time": "2023-10-01T05:31:35.481530",
     "status": "completed"
    },
    "tags": []
   },
   "outputs": [
    {
     "data": {
      "text/plain": [
       "<Axes: >"
      ]
     },
     "execution_count": 34,
     "metadata": {},
     "output_type": "execute_result"
    },
    {
     "data": {
      "image/png": "[encoded data removed]",
      "text/plain": [
       "<Figure size 640x480 with 2 Axes>"
      ]
     },
     "metadata": {},
     "output_type": "display_data"
    }
   ],
   "source": [
    "import seaborn as sbn\n",
    "sbn.heatmap(cm, annot=True, fmt='g')"
   ]
  },
  {
   "cell_type": "code",
   "execution_count": 35,
   "id": "fbb593ba",
   "metadata": {
    "execution": {
     "iopub.execute_input": "2023-10-01T05:31:35.829933Z",
     "iopub.status.busy": "2023-10-01T05:31:35.829595Z",
     "iopub.status.idle": "2023-10-01T05:31:35.835823Z",
     "shell.execute_reply": "2023-10-01T05:31:35.834772Z"
    },
    "papermill": {
     "duration": 0.022032,
     "end_time": "2023-10-01T05:31:35.837827",
     "exception": false,
     "start_time": "2023-10-01T05:31:35.815795",
     "status": "completed"
    },
    "tags": []
   },
   "outputs": [
    {
     "data": {
      "text/plain": [
       "\"from sklearn.neighbors import KNeighborsClassifier\\n\\nknn=KNeighborsClassifier(n_neighbors=3)\\n\\nknn.fit(X_train_transformed1,y_train)\\n\\nknn_pred=knn.predict(X_test_transformed1)\\naccuracy_score(knn_pred,y_test),f1_score(knn_pred,y_test,pos_label='POSITIVE')\""
      ]
     },
     "execution_count": 35,
     "metadata": {},
     "output_type": "execute_result"
    }
   ],
   "source": [
    "'''from sklearn.neighbors import KNeighborsClassifier\n",
    "\n",
    "knn=KNeighborsClassifier(n_neighbors=3)\n",
    "\n",
    "knn.fit(X_train_transformed1,y_train)\n",
    "\n",
    "knn_pred=knn.predict(X_test_transformed1)\n",
    "accuracy_score(knn_pred,y_test),f1_score(knn_pred,y_test,pos_label='POSITIVE')'''"
   ]
  },
  {
   "cell_type": "code",
   "execution_count": 36,
   "id": "e8dd9486",
   "metadata": {
    "execution": {
     "iopub.execute_input": "2023-10-01T05:31:35.865005Z",
     "iopub.status.busy": "2023-10-01T05:31:35.864605Z",
     "iopub.status.idle": "2023-10-01T05:31:35.871647Z",
     "shell.execute_reply": "2023-10-01T05:31:35.870557Z"
    },
    "papermill": {
     "duration": 0.022828,
     "end_time": "2023-10-01T05:31:35.873642",
     "exception": false,
     "start_time": "2023-10-01T05:31:35.850814",
     "status": "completed"
    },
    "tags": []
   },
   "outputs": [
    {
     "data": {
      "text/plain": [
       "\"from sklearn.pipeline import Pipeline\\nfrom sklearn.svm import SVC\\nfrom sklearn.decomposition import TruncatedSVD\\n\\npipe = Pipeline([\\n    ('preprocessor', ctf1),\\n    ('pca', TruncatedSVD(n_components=10)),\\n    ('svc', SVC())\\n])\\n\\n\\npipe.fit(X_train, y_train)\\n\\ny_pred = pipe.predict(X_test)\""
      ]
     },
     "execution_count": 36,
     "metadata": {},
     "output_type": "execute_result"
    }
   ],
   "source": [
    "'''from sklearn.pipeline import Pipeline\n",
    "from sklearn.svm import SVC\n",
    "from sklearn.decomposition import TruncatedSVD\n",
    "\n",
    "pipe = Pipeline([\n",
    "    ('preprocessor', ctf1),\n",
    "    ('pca', TruncatedSVD(n_components=10)),\n",
    "    ('svc', SVC())\n",
    "])\n",
    "\n",
    "\n",
    "pipe.fit(X_train, y_train)\n",
    "\n",
    "y_pred = pipe.predict(X_test)'''"
   ]
  },
  {
   "cell_type": "code",
   "execution_count": 37,
   "id": "bf7c34e0",
   "metadata": {
    "execution": {
     "iopub.execute_input": "2023-10-01T05:31:35.900762Z",
     "iopub.status.busy": "2023-10-01T05:31:35.900411Z",
     "iopub.status.idle": "2023-10-01T05:31:36.790595Z",
     "shell.execute_reply": "2023-10-01T05:31:36.789451Z"
    },
    "papermill": {
     "duration": 0.906396,
     "end_time": "2023-10-01T05:31:36.793079",
     "exception": false,
     "start_time": "2023-10-01T05:31:35.886683",
     "status": "completed"
    },
    "tags": []
   },
   "outputs": [],
   "source": [
    "test_data['reviewText'] = si.fit_transform(test_data[['reviewText']])\n",
    "test_data['reviewText']=test_data['reviewText'].apply(lambda x: normalize(x))\n",
    "test_data['isFrequentReviewer']=test_data['isTopCritic']\n",
    "test_data=test_data.drop(['isTopCritic'],axis=1)\n"
   ]
  },
  {
   "cell_type": "code",
   "execution_count": 38,
   "id": "3b08a422",
   "metadata": {
    "execution": {
     "iopub.execute_input": "2023-10-01T05:31:36.820232Z",
     "iopub.status.busy": "2023-10-01T05:31:36.819677Z",
     "iopub.status.idle": "2023-10-01T05:31:36.826362Z",
     "shell.execute_reply": "2023-10-01T05:31:36.825567Z"
    },
    "papermill": {
     "duration": 0.022765,
     "end_time": "2023-10-01T05:31:36.828189",
     "exception": false,
     "start_time": "2023-10-01T05:31:36.805424",
     "status": "completed"
    },
    "tags": []
   },
   "outputs": [
    {
     "data": {
      "text/plain": [
       "(55315, 4)"
      ]
     },
     "execution_count": 38,
     "metadata": {},
     "output_type": "execute_result"
    }
   ],
   "source": [
    "test_data.shape"
   ]
  },
  {
   "cell_type": "code",
   "execution_count": 39,
   "id": "b68cafcc",
   "metadata": {
    "execution": {
     "iopub.execute_input": "2023-10-01T05:31:36.855280Z",
     "iopub.status.busy": "2023-10-01T05:31:36.854265Z",
     "iopub.status.idle": "2023-10-01T05:31:38.106616Z",
     "shell.execute_reply": "2023-10-01T05:31:38.105399Z"
    },
    "papermill": {
     "duration": 1.268055,
     "end_time": "2023-10-01T05:31:38.108865",
     "exception": false,
     "start_time": "2023-10-01T05:31:36.840810",
     "status": "completed"
    },
    "tags": []
   },
   "outputs": [
    {
     "data": {
      "text/plain": [
       "(55315, 109899)"
      ]
     },
     "execution_count": 39,
     "metadata": {},
     "output_type": "execute_result"
    }
   ],
   "source": [
    "test_data_transformed=ctf1.transform(test_data)\n",
    "test_data_transformed.shape"
   ]
  },
  {
   "cell_type": "code",
   "execution_count": 40,
   "id": "b96ea066",
   "metadata": {
    "execution": {
     "iopub.execute_input": "2023-10-01T05:31:38.136348Z",
     "iopub.status.busy": "2023-10-01T05:31:38.135913Z",
     "iopub.status.idle": "2023-10-01T05:31:38.146594Z",
     "shell.execute_reply": "2023-10-01T05:31:38.145441Z"
    },
    "papermill": {
     "duration": 0.027515,
     "end_time": "2023-10-01T05:31:38.149153",
     "exception": false,
     "start_time": "2023-10-01T05:31:38.121638",
     "status": "completed"
    },
    "tags": []
   },
   "outputs": [],
   "source": [
    "prediction=sgd2.predict(test_data_transformed)"
   ]
  },
  {
   "cell_type": "code",
   "execution_count": 41,
   "id": "7f523e8c",
   "metadata": {
    "execution": {
     "iopub.execute_input": "2023-10-01T05:31:38.180255Z",
     "iopub.status.busy": "2023-10-01T05:31:38.179243Z",
     "iopub.status.idle": "2023-10-01T05:31:38.185313Z",
     "shell.execute_reply": "2023-10-01T05:31:38.184551Z"
    },
    "papermill": {
     "duration": 0.024218,
     "end_time": "2023-10-01T05:31:38.187325",
     "exception": false,
     "start_time": "2023-10-01T05:31:38.163107",
     "status": "completed"
    },
    "tags": []
   },
   "outputs": [
    {
     "data": {
      "text/plain": [
       "array(['POSITIVE', 'POSITIVE', 'POSITIVE', 'POSITIVE', 'POSITIVE',\n",
       "       'POSITIVE', 'POSITIVE', 'POSITIVE', 'POSITIVE', 'NEGATIVE'],\n",
       "      dtype='<U8')"
      ]
     },
     "execution_count": 41,
     "metadata": {},
     "output_type": "execute_result"
    }
   ],
   "source": [
    "prediction[:10]"
   ]
  },
  {
   "cell_type": "markdown",
   "id": "3b948413",
   "metadata": {
    "papermill": {
     "duration": 0.012508,
     "end_time": "2023-10-01T05:31:38.214330",
     "exception": false,
     "start_time": "2023-10-01T05:31:38.201822",
     "status": "completed"
    },
    "tags": []
   },
   "source": [
    "Submission"
   ]
  },
  {
   "cell_type": "code",
   "execution_count": 42,
   "id": "fcce6662",
   "metadata": {
    "execution": {
     "iopub.execute_input": "2023-10-01T05:31:38.243199Z",
     "iopub.status.busy": "2023-10-01T05:31:38.242427Z",
     "iopub.status.idle": "2023-10-01T05:31:38.389640Z",
     "shell.execute_reply": "2023-10-01T05:31:38.388440Z"
    },
    "papermill": {
     "duration": 0.164069,
     "end_time": "2023-10-01T05:31:38.392170",
     "exception": false,
     "start_time": "2023-10-01T05:31:38.228101",
     "status": "completed"
    },
    "tags": []
   },
   "outputs": [],
   "source": [
    "submission=pd.DataFrame(columns=['id','sentiment'])\n",
    "submission['id']=[i for i in range(len(prediction))]\n",
    "submission['sentiment']=prediction\n",
    "submission.to_csv('submission.csv',index=False)"
   ]
  }
 ],
 "metadata": {
  "kernelspec": {
   "display_name": "Python 3",
   "language": "python",
   "name": "python3"
  },
  "language_info": {
   "codemirror_mode": {
    "name": "ipython",
    "version": 3
   },
   "file_extension": ".py",
   "mimetype": "text/x-python",
   "name": "python",
   "nbconvert_exporter": "python",
   "pygments_lexer": "ipython3",
   "version": "3.10.10"
  },
  "papermill": {
   "default_parameters": {},
   "duration": 134.61547,
   "end_time": "2023-10-01T05:31:39.628885",
   "environment_variables": {},
   "exception": null,
   "input_path": "__notebook__.ipynb",
   "output_path": "__notebook__.ipynb",
   "parameters": {},
   "start_time": "2023-10-01T05:29:25.013415",
   "version": "2.4.0"
  }
 },
 "nbformat": 4,
 "nbformat_minor": 5
}
